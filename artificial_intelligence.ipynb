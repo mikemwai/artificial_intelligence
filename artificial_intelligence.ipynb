{
  "nbformat": 4,
  "nbformat_minor": 0,
  "metadata": {
    "colab": {
      "provenance": [],
      "authorship_tag": "ABX9TyOW4zkwi+dKaya4lFDgMSqB",
      "include_colab_link": true
    },
    "kernelspec": {
      "name": "python3",
      "display_name": "Python 3"
    },
    "language_info": {
      "name": "python"
    }
  },
  "cells": [
    {
      "cell_type": "markdown",
      "metadata": {
        "id": "view-in-github",
        "colab_type": "text"
      },
      "source": [
        "<a href=\"https://colab.research.google.com/github/mikemwai/artificial_intelligence/blob/main/artificial_intelligence.ipynb\" target=\"_parent\"><img src=\"https://colab.research.google.com/assets/colab-badge.svg\" alt=\"Open In Colab\"/></a>"
      ]
    },
    {
      "cell_type": "code",
      "execution_count": 2,
      "metadata": {
        "id": "OZY_zZNZLwbW"
      },
      "outputs": [],
      "source": [
        "from numpy import array\n",
        "from scipy.special import softmax\n",
        "from numpy.ma.core import argmax"
      ]
    },
    {
      "cell_type": "code",
      "source": [
        "input_vector = array([[1.,0.,0.,1.,0.],\n",
        "                      [0.,1.,0.,1.,0.]])\n",
        "weight_mat_one = array([[.2,.4,.3],\n",
        "                        [.1,.5,.7],\n",
        "                        [.2,.6,.8],\n",
        "                        [.8,.9,.4],\n",
        "                        [.1,.7,.3]])\n",
        "weight_mat_two = array([[.2,.1],\n",
        "                        [.5,.4],\n",
        "                        [.1,.8]])"
      ],
      "metadata": {
        "id": "wFC3AAmQL5kB"
      },
      "execution_count": 3,
      "outputs": []
    },
    {
      "cell_type": "code",
      "source": [
        "out_1 = input_vector @ weight_mat_one\n",
        "out_1"
      ],
      "metadata": {
        "colab": {
          "base_uri": "https://localhost:8080/"
        },
        "id": "moVEskPBQrJl",
        "outputId": "688fd458-53ae-4855-a5e8-5f47208d7956"
      },
      "execution_count": 6,
      "outputs": [
        {
          "output_type": "execute_result",
          "data": {
            "text/plain": [
              "array([[1. , 1.3, 0.7],\n",
              "       [0.9, 1.4, 1.1]])"
            ]
          },
          "metadata": {},
          "execution_count": 6
        }
      ]
    },
    {
      "cell_type": "code",
      "source": [
        "out_2 = out_1@weight_mat_two\n",
        "out_2"
      ],
      "metadata": {
        "colab": {
          "base_uri": "https://localhost:8080/"
        },
        "id": "fEO_eZzzNuWy",
        "outputId": "07aaae03-c2ce-4274-cc33-14dd40795e72"
      },
      "execution_count": 5,
      "outputs": [
        {
          "output_type": "execute_result",
          "data": {
            "text/plain": [
              "array([[0.92, 1.18],\n",
              "       [0.99, 1.53]])"
            ]
          },
          "metadata": {},
          "execution_count": 5
        }
      ]
    },
    {
      "cell_type": "code",
      "source": [
        "out_2[0]"
      ],
      "metadata": {
        "colab": {
          "base_uri": "https://localhost:8080/"
        },
        "id": "LU7Tz4WSKtFv",
        "outputId": "7bf04ba2-bdd4-4b72-b34b-3230612cea16"
      },
      "execution_count": 7,
      "outputs": [
        {
          "output_type": "execute_result",
          "data": {
            "text/plain": [
              "array([0.92, 1.18])"
            ]
          },
          "metadata": {},
          "execution_count": 7
        }
      ]
    },
    {
      "cell_type": "code",
      "source": [
        "#softmax?"
      ],
      "metadata": {
        "id": "kexXr_wNUd0P"
      },
      "execution_count": null,
      "outputs": []
    },
    {
      "cell_type": "code",
      "source": [
        "softmax(out_1[0])"
      ],
      "metadata": {
        "colab": {
          "base_uri": "https://localhost:8080/"
        },
        "id": "LyElqrlPU3RH",
        "outputId": "091c910d-2894-424c-e70f-178863bc63de"
      },
      "execution_count": 12,
      "outputs": [
        {
          "output_type": "execute_result",
          "data": {
            "text/plain": [
              "array([0.3235537 , 0.43675182, 0.23969448])"
            ]
          },
          "metadata": {},
          "execution_count": 12
        }
      ]
    },
    {
      "cell_type": "code",
      "source": [
        "softmax(out_2[0])"
      ],
      "metadata": {
        "colab": {
          "base_uri": "https://localhost:8080/"
        },
        "id": "7uy-EEhQXtj3",
        "outputId": "2302386d-6af8-4195-ced0-4048a5ad02ef"
      },
      "execution_count": 11,
      "outputs": [
        {
          "output_type": "execute_result",
          "data": {
            "text/plain": [
              "array([0.43536371, 0.56463629])"
            ]
          },
          "metadata": {},
          "execution_count": 11
        }
      ]
    },
    {
      "cell_type": "code",
      "source": [
        "softmax(out_2[1])"
      ],
      "metadata": {
        "colab": {
          "base_uri": "https://localhost:8080/"
        },
        "id": "lr7-GRgZK26E",
        "outputId": "e8a4cb31-8b8d-4c2c-8d9b-38401bb6876d"
      },
      "execution_count": 10,
      "outputs": [
        {
          "output_type": "execute_result",
          "data": {
            "text/plain": [
              "array([0.36818758, 0.63181242])"
            ]
          },
          "metadata": {},
          "execution_count": 10
        }
      ]
    },
    {
      "cell_type": "code",
      "source": [
        "#argmax?"
      ],
      "metadata": {
        "id": "m7f6IhaFYBWM"
      },
      "execution_count": null,
      "outputs": []
    }
  ]
}