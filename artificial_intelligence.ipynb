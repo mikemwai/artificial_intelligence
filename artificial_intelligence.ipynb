{
  "nbformat": 4,
  "nbformat_minor": 0,
  "metadata": {
    "colab": {
      "provenance": [],
      "authorship_tag": "ABX9TyNR6Ys3qXkP1cSYpa1H9htK",
      "include_colab_link": true
    },
    "kernelspec": {
      "name": "python3",
      "display_name": "Python 3"
    },
    "language_info": {
      "name": "python"
    }
  },
  "cells": [
    {
      "cell_type": "markdown",
      "metadata": {
        "id": "view-in-github",
        "colab_type": "text"
      },
      "source": [
        "<a href=\"https://colab.research.google.com/github/mikemwai/artificial_intelligence/blob/main/artificial_intelligence.ipynb\" target=\"_parent\"><img src=\"https://colab.research.google.com/assets/colab-badge.svg\" alt=\"Open In Colab\"/></a>"
      ]
    },
    {
      "cell_type": "code",
      "execution_count": 29,
      "metadata": {
        "id": "OZY_zZNZLwbW"
      },
      "outputs": [],
      "source": [
        "from numpy import array\n",
        "from scipy.special import softmax"
      ]
    },
    {
      "cell_type": "code",
      "source": [
        "input_vec = array([[1,0,0,1,0],\n",
        "                   [0,1,0,0,1]])\n",
        "\n",
        "weight_matrix_1 = array([[.2,.3,.1],\n",
        "                       [.1,.3,.2],\n",
        "                       [.4,.6,.8],\n",
        "                       [.3,.5,.4],\n",
        "                       [.7,.5,.1]])\n",
        "\n",
        "weight_matrix_2 = array([[.5,.6],\n",
        "                         [.9,.7],\n",
        "                         [.2,.6],\n",
        "                         [.8,.3],\n",
        "                         [.1,.9]])"
      ],
      "metadata": {
        "id": "wFC3AAmQL5kB"
      },
      "execution_count": 23,
      "outputs": []
    },
    {
      "cell_type": "code",
      "source": [
        "out_1 = input_vec @ weight_matrix_1\n",
        "out_1"
      ],
      "metadata": {
        "colab": {
          "base_uri": "https://localhost:8080/"
        },
        "id": "moVEskPBQrJl",
        "outputId": "688fb037-f2bf-4bba-deb6-cc0ecbf3ce51"
      },
      "execution_count": 24,
      "outputs": [
        {
          "output_type": "execute_result",
          "data": {
            "text/plain": [
              "array([[0.5, 0.8, 0.5],\n",
              "       [0.8, 0.8, 0.3]])"
            ]
          },
          "metadata": {},
          "execution_count": 24
        }
      ]
    },
    {
      "cell_type": "code",
      "source": [
        "out_2 = input_vec @ weight_matrix_2\n",
        "out_2"
      ],
      "metadata": {
        "colab": {
          "base_uri": "https://localhost:8080/"
        },
        "id": "fEO_eZzzNuWy",
        "outputId": "ae0fadfa-bfc9-4c72-b961-a12e7d773aa2"
      },
      "execution_count": 25,
      "outputs": [
        {
          "output_type": "execute_result",
          "data": {
            "text/plain": [
              "array([[1.3, 0.9],\n",
              "       [1. , 1.6]])"
            ]
          },
          "metadata": {},
          "execution_count": 25
        }
      ]
    },
    {
      "cell_type": "code",
      "source": [
        "#softmax?"
      ],
      "metadata": {
        "id": "kexXr_wNUd0P"
      },
      "execution_count": 31,
      "outputs": []
    },
    {
      "cell_type": "code",
      "source": [
        "softmax(out_2[0])"
      ],
      "metadata": {
        "colab": {
          "base_uri": "https://localhost:8080/"
        },
        "id": "LyElqrlPU3RH",
        "outputId": "741b1046-ca0b-455a-bd9a-2f6ad04653da"
      },
      "execution_count": 32,
      "outputs": [
        {
          "output_type": "execute_result",
          "data": {
            "text/plain": [
              "array([0.59868766, 0.40131234])"
            ]
          },
          "metadata": {},
          "execution_count": 32
        }
      ]
    }
  ]
}